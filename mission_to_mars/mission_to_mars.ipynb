{
 "cells": [
  {
   "cell_type": "code",
   "execution_count": 1,
   "metadata": {},
   "outputs": [],
   "source": [
    "# Dependencies\n",
    "import os\n",
    "from bs4 import BeautifulSoup as bs\n",
    "import requests\n",
    "import pymongo\n",
    "from splinter import Browser\n",
    "from webdriver_manager.chrome import ChromeDriverManager\n",
    "import pandas as pd"
   ]
  },
  {
   "cell_type": "code",
   "execution_count": 2,
   "metadata": {},
   "outputs": [
    {
     "name": "stderr",
     "output_type": "stream",
     "text": [
      "\n",
      "\n",
      "====== WebDriver manager ======\n",
      "Current google-chrome version is 91.0.4472\n",
      "Get LATEST driver version for 91.0.4472\n",
      "Driver [C:\\Users\\ahop9\\.wdm\\drivers\\chromedriver\\win32\\91.0.4472.19\\chromedriver.exe] found in cache\n"
     ]
    }
   ],
   "source": [
    "# Initialize PyMongo to work with MongoDBs\n",
    "\n",
    "executable_path = {'executable_path': ChromeDriverManager().install()}\n",
    "browser = Browser('chrome', **executable_path, headless=False)"
   ]
  },
  {
   "cell_type": "code",
   "execution_count": 3,
   "metadata": {},
   "outputs": [],
   "source": [
    "url = 'https://redplanetscience.com/'\n",
    "browser.visit(url)"
   ]
  },
  {
   "cell_type": "code",
   "execution_count": 4,
   "metadata": {},
   "outputs": [
    {
     "name": "stdout",
     "output_type": "stream",
     "text": [
      "-----------\n",
      "InSight's 'Mole' Team Peers into the Pit \n",
      "\n",
      "Efforts to save the heat probe continue.\n",
      "-----------\n",
      "NASA's Curiosity Keeps Rolling As Team Operates Rover From Home \n",
      "\n",
      "The team has learned to meet new challenges as they work remotely on the Mars mission.\n",
      "-----------\n",
      "The Detective Aboard NASA's Perseverance Rover \n",
      "\n",
      "An instrument called SHERLOC will, with the help of its partner WATSON, hunt for signs of ancient life by detecting organic molecules and minerals.\n",
      "-----------\n",
      "A Martian Roundtrip: NASA's Perseverance Rover Sample Tubes \n",
      "\n",
      "Marvels of engineering, the rover's sample tubes must be tough enough to safely bring Red Planet samples on the long journey back to Earth in immaculate condition. \n",
      "-----------\n",
      "NASA's Push to Save the Mars InSight Lander's Heat Probe \n",
      "\n",
      "The scoop on the end of the spacecraft's robotic arm will be used to 'pin' the mole against the wall of its hole.\n",
      "-----------\n",
      "NASA's New Mars Rover Is Ready for Space Lasers \n",
      "\n",
      "Perseverance is one of a few Mars spacecraft carrying laser retroreflectors. The devices could provide new science and safer Mars landings in the future.\n",
      "-----------\n",
      "NASA's Mars Perseverance Rover Passes Flight Readiness Review \n",
      "\n",
      "​The agency's Mars 2020 mission has one more big prelaunch review – the Launch Readiness Review, on July 27.\n",
      "-----------\n",
      "NASA's MAVEN Maps Winds in the Martian Upper Atmosphere that Mirror the Terrain Below and Gives Clues to Martian Climate \n",
      "\n",
      "Researchers have created the first map of wind circulation in the upper atmosphere of a planet besides Earth, using data from NASA’s MAVEN spacecraft that were collected during the last two years.\n",
      "-----------\n",
      "NASA, ULA Launch Mars 2020 Perseverance Rover Mission to Red Planet \n",
      "\n",
      "The agency's Mars 2020 mission is on its way. It will land at Jezero Crater in about seven months, on Feb. 18, 2021. \n",
      "-----------\n",
      "NASA Invites Students to Name Mars 2020 Rover \n",
      "\n",
      "Through Nov. 1, K-12 students in the U.S. are encouraged to enter an essay contest to name NASA's next Mars rover.\n",
      "-----------\n",
      "NASA Updates Mars 2020 Mission Environmental Review \n",
      "\n",
      "NASA and the Department of Energy have completed a more detailed risk analysis for the Mars 2020 rover launch from Florida.\n",
      "-----------\n",
      "NASA's Perseverance Rover 100 Days Out \n",
      "\n",
      "Mark your calendars: The agency's latest rover has only about 8,640,000 seconds to go before it touches down on the Red Planet, becoming history's next Mars car.\n",
      "-----------\n",
      "Mars 2020 Stands on Its Own Six Wheels \n",
      "\n",
      "In time-lapse video, taken at JPL, captures the first time NASA's Mars 2020 rover carries its full weight on its legs and wheels.\n",
      "-----------\n",
      "Common Questions about InSight's 'Mole' \n",
      "\n",
      "The following Q&As with members of the team answer some of the most common questions about the burrowing device, part of a science instrument called the Heat Flow and Physical Properties Package (HP3).\n",
      "-----------\n",
      "Global Storms on Mars Launch Dust Towers Into the Sky \n",
      "\n",
      "A Mars Dust Tower Stands Out Dust storms are common on Mars. But every decade or so, something unpredictable happens: a series of runaway storms break out, covering the entire planet in a dusty haze.\n",
      "Scraping Complete\n",
      "-----------\n",
      "InSight's 'Mole' Team Peers into the Pit \n",
      "\n",
      "Efforts to save the heat probe continue.\n",
      "-----------\n",
      "NASA's Curiosity Keeps Rolling As Team Operates Rover From Home \n",
      "\n",
      "The team has learned to meet new challenges as they work remotely on the Mars mission.\n",
      "-----------\n",
      "The Detective Aboard NASA's Perseverance Rover \n",
      "\n",
      "An instrument called SHERLOC will, with the help of its partner WATSON, hunt for signs of ancient life by detecting organic molecules and minerals.\n",
      "-----------\n",
      "A Martian Roundtrip: NASA's Perseverance Rover Sample Tubes \n",
      "\n",
      "Marvels of engineering, the rover's sample tubes must be tough enough to safely bring Red Planet samples on the long journey back to Earth in immaculate condition. \n",
      "-----------\n",
      "NASA's Push to Save the Mars InSight Lander's Heat Probe \n",
      "\n",
      "The scoop on the end of the spacecraft's robotic arm will be used to 'pin' the mole against the wall of its hole.\n",
      "-----------\n",
      "NASA's New Mars Rover Is Ready for Space Lasers \n",
      "\n",
      "Perseverance is one of a few Mars spacecraft carrying laser retroreflectors. The devices could provide new science and safer Mars landings in the future.\n",
      "-----------\n",
      "NASA's Mars Perseverance Rover Passes Flight Readiness Review \n",
      "\n",
      "​The agency's Mars 2020 mission has one more big prelaunch review – the Launch Readiness Review, on July 27.\n",
      "-----------\n",
      "NASA's MAVEN Maps Winds in the Martian Upper Atmosphere that Mirror the Terrain Below and Gives Clues to Martian Climate \n",
      "\n",
      "Researchers have created the first map of wind circulation in the upper atmosphere of a planet besides Earth, using data from NASA’s MAVEN spacecraft that were collected during the last two years.\n",
      "-----------\n",
      "NASA, ULA Launch Mars 2020 Perseverance Rover Mission to Red Planet \n",
      "\n",
      "The agency's Mars 2020 mission is on its way. It will land at Jezero Crater in about seven months, on Feb. 18, 2021. \n",
      "-----------\n",
      "NASA Invites Students to Name Mars 2020 Rover \n",
      "\n",
      "Through Nov. 1, K-12 students in the U.S. are encouraged to enter an essay contest to name NASA's next Mars rover.\n",
      "-----------\n",
      "NASA Updates Mars 2020 Mission Environmental Review \n",
      "\n",
      "NASA and the Department of Energy have completed a more detailed risk analysis for the Mars 2020 rover launch from Florida.\n",
      "-----------\n",
      "NASA's Perseverance Rover 100 Days Out \n",
      "\n",
      "Mark your calendars: The agency's latest rover has only about 8,640,000 seconds to go before it touches down on the Red Planet, becoming history's next Mars car.\n",
      "-----------\n",
      "Mars 2020 Stands on Its Own Six Wheels \n",
      "\n",
      "In time-lapse video, taken at JPL, captures the first time NASA's Mars 2020 rover carries its full weight on its legs and wheels.\n",
      "-----------\n",
      "Common Questions about InSight's 'Mole' \n",
      "\n",
      "The following Q&As with members of the team answer some of the most common questions about the burrowing device, part of a science instrument called the Heat Flow and Physical Properties Package (HP3).\n",
      "-----------\n",
      "Global Storms on Mars Launch Dust Towers Into the Sky \n",
      "\n",
      "A Mars Dust Tower Stands Out Dust storms are common on Mars. But every decade or so, something unpredictable happens: a series of runaway storms break out, covering the entire planet in a dusty haze.\n",
      "Scraping Complete\n",
      "-----------\n",
      "InSight's 'Mole' Team Peers into the Pit \n",
      "\n",
      "Efforts to save the heat probe continue.\n",
      "-----------\n",
      "NASA's Curiosity Keeps Rolling As Team Operates Rover From Home \n",
      "\n",
      "The team has learned to meet new challenges as they work remotely on the Mars mission.\n",
      "-----------\n",
      "The Detective Aboard NASA's Perseverance Rover \n",
      "\n",
      "An instrument called SHERLOC will, with the help of its partner WATSON, hunt for signs of ancient life by detecting organic molecules and minerals.\n",
      "-----------\n",
      "A Martian Roundtrip: NASA's Perseverance Rover Sample Tubes \n",
      "\n",
      "Marvels of engineering, the rover's sample tubes must be tough enough to safely bring Red Planet samples on the long journey back to Earth in immaculate condition. \n",
      "-----------\n",
      "NASA's Push to Save the Mars InSight Lander's Heat Probe \n",
      "\n",
      "The scoop on the end of the spacecraft's robotic arm will be used to 'pin' the mole against the wall of its hole.\n",
      "-----------\n",
      "NASA's New Mars Rover Is Ready for Space Lasers \n",
      "\n",
      "Perseverance is one of a few Mars spacecraft carrying laser retroreflectors. The devices could provide new science and safer Mars landings in the future.\n",
      "-----------\n",
      "NASA's Mars Perseverance Rover Passes Flight Readiness Review \n",
      "\n",
      "​The agency's Mars 2020 mission has one more big prelaunch review – the Launch Readiness Review, on July 27.\n",
      "-----------\n",
      "NASA's MAVEN Maps Winds in the Martian Upper Atmosphere that Mirror the Terrain Below and Gives Clues to Martian Climate \n",
      "\n",
      "Researchers have created the first map of wind circulation in the upper atmosphere of a planet besides Earth, using data from NASA’s MAVEN spacecraft that were collected during the last two years.\n",
      "-----------\n",
      "NASA, ULA Launch Mars 2020 Perseverance Rover Mission to Red Planet \n",
      "\n",
      "The agency's Mars 2020 mission is on its way. It will land at Jezero Crater in about seven months, on Feb. 18, 2021. \n",
      "-----------\n",
      "NASA Invites Students to Name Mars 2020 Rover \n",
      "\n",
      "Through Nov. 1, K-12 students in the U.S. are encouraged to enter an essay contest to name NASA's next Mars rover.\n",
      "-----------\n",
      "NASA Updates Mars 2020 Mission Environmental Review \n",
      "\n",
      "NASA and the Department of Energy have completed a more detailed risk analysis for the Mars 2020 rover launch from Florida.\n",
      "-----------\n",
      "NASA's Perseverance Rover 100 Days Out \n",
      "\n",
      "Mark your calendars: The agency's latest rover has only about 8,640,000 seconds to go before it touches down on the Red Planet, becoming history's next Mars car.\n",
      "-----------\n",
      "Mars 2020 Stands on Its Own Six Wheels \n",
      "\n",
      "In time-lapse video, taken at JPL, captures the first time NASA's Mars 2020 rover carries its full weight on its legs and wheels.\n",
      "-----------\n",
      "Common Questions about InSight's 'Mole' \n",
      "\n",
      "The following Q&As with members of the team answer some of the most common questions about the burrowing device, part of a science instrument called the Heat Flow and Physical Properties Package (HP3).\n",
      "-----------\n",
      "Global Storms on Mars Launch Dust Towers Into the Sky \n",
      "\n",
      "A Mars Dust Tower Stands Out Dust storms are common on Mars. But every decade or so, something unpredictable happens: a series of runaway storms break out, covering the entire planet in a dusty haze.\n"
     ]
    },
    {
     "name": "stdout",
     "output_type": "stream",
     "text": [
      "Scraping Complete\n",
      "-----------\n",
      "InSight's 'Mole' Team Peers into the Pit \n",
      "\n",
      "Efforts to save the heat probe continue.\n",
      "-----------\n",
      "NASA's Curiosity Keeps Rolling As Team Operates Rover From Home \n",
      "\n",
      "The team has learned to meet new challenges as they work remotely on the Mars mission.\n",
      "-----------\n",
      "The Detective Aboard NASA's Perseverance Rover \n",
      "\n",
      "An instrument called SHERLOC will, with the help of its partner WATSON, hunt for signs of ancient life by detecting organic molecules and minerals.\n",
      "-----------\n",
      "A Martian Roundtrip: NASA's Perseverance Rover Sample Tubes \n",
      "\n",
      "Marvels of engineering, the rover's sample tubes must be tough enough to safely bring Red Planet samples on the long journey back to Earth in immaculate condition. \n",
      "-----------\n",
      "NASA's Push to Save the Mars InSight Lander's Heat Probe \n",
      "\n",
      "The scoop on the end of the spacecraft's robotic arm will be used to 'pin' the mole against the wall of its hole.\n",
      "-----------\n",
      "NASA's New Mars Rover Is Ready for Space Lasers \n",
      "\n",
      "Perseverance is one of a few Mars spacecraft carrying laser retroreflectors. The devices could provide new science and safer Mars landings in the future.\n",
      "-----------\n",
      "NASA's Mars Perseverance Rover Passes Flight Readiness Review \n",
      "\n",
      "​The agency's Mars 2020 mission has one more big prelaunch review – the Launch Readiness Review, on July 27.\n",
      "-----------\n",
      "NASA's MAVEN Maps Winds in the Martian Upper Atmosphere that Mirror the Terrain Below and Gives Clues to Martian Climate \n",
      "\n",
      "Researchers have created the first map of wind circulation in the upper atmosphere of a planet besides Earth, using data from NASA’s MAVEN spacecraft that were collected during the last two years.\n",
      "-----------\n",
      "NASA, ULA Launch Mars 2020 Perseverance Rover Mission to Red Planet \n",
      "\n",
      "The agency's Mars 2020 mission is on its way. It will land at Jezero Crater in about seven months, on Feb. 18, 2021. \n",
      "-----------\n",
      "NASA Invites Students to Name Mars 2020 Rover \n",
      "\n",
      "Through Nov. 1, K-12 students in the U.S. are encouraged to enter an essay contest to name NASA's next Mars rover.\n",
      "-----------\n",
      "NASA Updates Mars 2020 Mission Environmental Review \n",
      "\n",
      "NASA and the Department of Energy have completed a more detailed risk analysis for the Mars 2020 rover launch from Florida.\n",
      "-----------\n",
      "NASA's Perseverance Rover 100 Days Out \n",
      "\n",
      "Mark your calendars: The agency's latest rover has only about 8,640,000 seconds to go before it touches down on the Red Planet, becoming history's next Mars car.\n",
      "-----------\n",
      "Mars 2020 Stands on Its Own Six Wheels \n",
      "\n",
      "In time-lapse video, taken at JPL, captures the first time NASA's Mars 2020 rover carries its full weight on its legs and wheels.\n",
      "-----------\n",
      "Common Questions about InSight's 'Mole' \n",
      "\n",
      "The following Q&As with members of the team answer some of the most common questions about the burrowing device, part of a science instrument called the Heat Flow and Physical Properties Package (HP3).\n",
      "-----------\n",
      "Global Storms on Mars Launch Dust Towers Into the Sky \n",
      "\n",
      "A Mars Dust Tower Stands Out Dust storms are common on Mars. But every decade or so, something unpredictable happens: a series of runaway storms break out, covering the entire planet in a dusty haze.\n",
      "Scraping Complete\n",
      "-----------\n",
      "InSight's 'Mole' Team Peers into the Pit \n",
      "\n",
      "Efforts to save the heat probe continue.\n",
      "-----------\n",
      "NASA's Curiosity Keeps Rolling As Team Operates Rover From Home \n",
      "\n",
      "The team has learned to meet new challenges as they work remotely on the Mars mission.\n",
      "-----------\n",
      "The Detective Aboard NASA's Perseverance Rover \n",
      "\n",
      "An instrument called SHERLOC will, with the help of its partner WATSON, hunt for signs of ancient life by detecting organic molecules and minerals.\n",
      "-----------\n",
      "A Martian Roundtrip: NASA's Perseverance Rover Sample Tubes \n",
      "\n",
      "Marvels of engineering, the rover's sample tubes must be tough enough to safely bring Red Planet samples on the long journey back to Earth in immaculate condition. \n",
      "-----------\n",
      "NASA's Push to Save the Mars InSight Lander's Heat Probe \n",
      "\n",
      "The scoop on the end of the spacecraft's robotic arm will be used to 'pin' the mole against the wall of its hole.\n",
      "-----------\n",
      "NASA's New Mars Rover Is Ready for Space Lasers \n",
      "\n",
      "Perseverance is one of a few Mars spacecraft carrying laser retroreflectors. The devices could provide new science and safer Mars landings in the future.\n",
      "-----------\n",
      "NASA's Mars Perseverance Rover Passes Flight Readiness Review \n",
      "\n",
      "​The agency's Mars 2020 mission has one more big prelaunch review – the Launch Readiness Review, on July 27.\n",
      "-----------\n",
      "NASA's MAVEN Maps Winds in the Martian Upper Atmosphere that Mirror the Terrain Below and Gives Clues to Martian Climate \n",
      "\n",
      "Researchers have created the first map of wind circulation in the upper atmosphere of a planet besides Earth, using data from NASA’s MAVEN spacecraft that were collected during the last two years.\n",
      "-----------\n",
      "NASA, ULA Launch Mars 2020 Perseverance Rover Mission to Red Planet \n",
      "\n",
      "The agency's Mars 2020 mission is on its way. It will land at Jezero Crater in about seven months, on Feb. 18, 2021. \n",
      "-----------\n",
      "NASA Invites Students to Name Mars 2020 Rover \n",
      "\n",
      "Through Nov. 1, K-12 students in the U.S. are encouraged to enter an essay contest to name NASA's next Mars rover.\n",
      "-----------\n",
      "NASA Updates Mars 2020 Mission Environmental Review \n",
      "\n",
      "NASA and the Department of Energy have completed a more detailed risk analysis for the Mars 2020 rover launch from Florida.\n",
      "-----------\n",
      "NASA's Perseverance Rover 100 Days Out \n",
      "\n",
      "Mark your calendars: The agency's latest rover has only about 8,640,000 seconds to go before it touches down on the Red Planet, becoming history's next Mars car.\n",
      "-----------\n",
      "Mars 2020 Stands on Its Own Six Wheels \n",
      "\n",
      "In time-lapse video, taken at JPL, captures the first time NASA's Mars 2020 rover carries its full weight on its legs and wheels.\n",
      "-----------\n",
      "Common Questions about InSight's 'Mole' \n",
      "\n",
      "The following Q&As with members of the team answer some of the most common questions about the burrowing device, part of a science instrument called the Heat Flow and Physical Properties Package (HP3).\n",
      "-----------\n",
      "Global Storms on Mars Launch Dust Towers Into the Sky \n",
      "\n",
      "A Mars Dust Tower Stands Out Dust storms are common on Mars. But every decade or so, something unpredictable happens: a series of runaway storms break out, covering the entire planet in a dusty haze.\n",
      "Scraping Complete\n"
     ]
    }
   ],
   "source": [
    "# Iterate through all pages\n",
    "news_titles = []\n",
    "news_ps = []\n",
    "\n",
    "for x in range(5):\n",
    "    # HTML object\n",
    "    html = browser.html\n",
    "    # Parse HTML with Beautiful Soup\n",
    "    soup = bs(html, 'html.parser')\n",
    "    # Retrieve all elements that contain article information\n",
    "    articles = soup.find_all('div', class_='list_text')\n",
    "\n",
    "    # Iterate through each article \n",
    "    for article in articles:\n",
    "        # Use Beautiful Soup's find() method to navigate and retrieve attributes\n",
    "        news_title = article.find('div', class_='content_title').text\n",
    "        news_p = article.find('div', class_='article_teaser_body').text\n",
    "        print('-----------')\n",
    "        print(news_title,'\\n')\n",
    "        print(news_p)\n",
    "        \n",
    "        news_titles.append(news_title)\n",
    "        news_ps.append(news_p)\n",
    "\n",
    "    # Click the 'Next' button on each page\n",
    "    try:\n",
    "        browser.links.find_by_partial_text('more').click()\n",
    "          \n",
    "    except:\n",
    "        print(\"Scraping Complete\")"
   ]
  },
  {
   "cell_type": "code",
   "execution_count": 5,
   "metadata": {},
   "outputs": [],
   "source": [
    "#Getting most recent article and sub-title\n",
    "news_title = news_titles[0]\n",
    "news_p= news_ps[0]"
   ]
  },
  {
   "cell_type": "code",
   "execution_count": 6,
   "metadata": {},
   "outputs": [],
   "source": [
    "#Closing browser session to move on to next site to scrape\n",
    "browser.quit()"
   ]
  },
  {
   "cell_type": "code",
   "execution_count": 7,
   "metadata": {},
   "outputs": [
    {
     "name": "stderr",
     "output_type": "stream",
     "text": [
      "\n",
      "\n",
      "====== WebDriver manager ======\n",
      "Current google-chrome version is 91.0.4472\n",
      "Get LATEST driver version for 91.0.4472\n",
      "Driver [C:\\Users\\ahop9\\.wdm\\drivers\\chromedriver\\win32\\91.0.4472.19\\chromedriver.exe] found in cache\n"
     ]
    }
   ],
   "source": [
    "#Re-initialize PyMongo to work with MongoDBs\n",
    "\n",
    "executable_path = {'executable_path': ChromeDriverManager().install()}\n",
    "browser = Browser('chrome', **executable_path, headless=False)"
   ]
  },
  {
   "cell_type": "code",
   "execution_count": 8,
   "metadata": {},
   "outputs": [],
   "source": [
    "url = 'https://spaceimages-mars.com/'\n",
    "browser.visit(url)"
   ]
  },
  {
   "cell_type": "code",
   "execution_count": 9,
   "metadata": {},
   "outputs": [],
   "source": [
    "# Defining an HTML object to extract the featured image on the site\n",
    "html = browser.html\n",
    "# Parse HTML with Beautiful Soup\n",
    "soup = bs(html, 'html.parser')\n",
    "# Retrieve all elements that contain book information\n",
    "img = soup.find_all('img', class_='headerimage fade-in')\n",
    "\n",
    "#Combining original URL with the source path for the featured image\n",
    "featured_image_url = url + img[0]['src']"
   ]
  },
  {
   "cell_type": "code",
   "execution_count": 10,
   "metadata": {},
   "outputs": [],
   "source": [
    "#Closing browser session to move on to next site to scrape\n",
    "browser.quit()"
   ]
  },
  {
   "cell_type": "code",
   "execution_count": 11,
   "metadata": {},
   "outputs": [],
   "source": [
    "#Resetting the url definition for Mars fact scraping and accessing Mars facts with pandas\n",
    "url = 'https://galaxyfacts-mars.com/'\n",
    "mars_table_incoming = pd.read_html(url)\n",
    "\n",
    "#Convert incoming information into pandas dataframe\n",
    "mars_facts_df = mars_table_incoming[0]"
   ]
  },
  {
   "cell_type": "code",
   "execution_count": 12,
   "metadata": {},
   "outputs": [],
   "source": [
    "# Ref: https://pandas.pydata.org/pandas-docs/stable/reference/api/pandas.DataFrame.drop.html\n",
    "mars_facts_df = pd.DataFrame({\"Attribute\": mars_table_incoming[0][0], \n",
    "                              \"Mars\": mars_table_incoming[0][1],\n",
    "                             \"Earth\": mars_table_incoming[0][2]})"
   ]
  },
  {
   "cell_type": "code",
   "execution_count": 13,
   "metadata": {},
   "outputs": [],
   "source": [
    "mars_facts_df = mars_facts_df.drop([0])\n",
    "mars_facts_df = mars_facts_df.set_index(keys=\"Attribute\")"
   ]
  },
  {
   "cell_type": "code",
   "execution_count": 14,
   "metadata": {},
   "outputs": [],
   "source": [
    "#DataFrame to HTML\n",
    "mars_facts_df_html = mars_facts_df.to_html()"
   ]
  },
  {
   "cell_type": "code",
   "execution_count": 15,
   "metadata": {},
   "outputs": [],
   "source": [
    "#Cleaning HTML\n",
    "mars_facts_df_html = mars_facts_df_html.replace('\\n','')"
   ]
  },
  {
   "cell_type": "code",
   "execution_count": 16,
   "metadata": {},
   "outputs": [
    {
     "name": "stderr",
     "output_type": "stream",
     "text": [
      "\n",
      "\n",
      "====== WebDriver manager ======\n",
      "Current google-chrome version is 91.0.4472\n",
      "Get LATEST driver version for 91.0.4472\n",
      "Driver [C:\\Users\\ahop9\\.wdm\\drivers\\chromedriver\\win32\\91.0.4472.19\\chromedriver.exe] found in cache\n"
     ]
    }
   ],
   "source": [
    "#Re-initialize PyMongo to work with MongoDBs\n",
    "\n",
    "executable_path = {'executable_path': ChromeDriverManager().install()}\n",
    "browser = Browser('chrome', **executable_path, headless=False)"
   ]
  },
  {
   "cell_type": "code",
   "execution_count": 17,
   "metadata": {},
   "outputs": [],
   "source": [
    "url = 'https://marshemispheres.com/'\n",
    "browser.visit(url)"
   ]
  },
  {
   "cell_type": "code",
   "execution_count": 18,
   "metadata": {},
   "outputs": [],
   "source": [
    "# Iterate through the page to acquire HTML pages the four requested images\n",
    "hemisphere_page_urls = []\n",
    "\n",
    "for x in range(4):\n",
    "    # HTML object\n",
    "    html = browser.html\n",
    "    # Parse HTML with Beautiful Soup\n",
    "    soup = bs(html, 'html.parser')\n",
    "    # Retrieve all elements that contain book information\n",
    "    thumbnails = soup.find_all('a', class_='itemLink product-item')\n",
    "\n",
    "    for thumbnail in thumbnails:\n",
    "        \n",
    "        if thumbnail['href'] not in hemisphere_page_urls:\n",
    "        \n",
    "            hemisphere_page_urls.append(thumbnail['href'])\n",
    "    \n",
    "#Ending session on landing page for hemispheres\n",
    "browser.quit()"
   ]
  },
  {
   "cell_type": "code",
   "execution_count": 35,
   "metadata": {},
   "outputs": [
    {
     "name": "stderr",
     "output_type": "stream",
     "text": [
      "\n",
      "\n",
      "====== WebDriver manager ======\n",
      "Current google-chrome version is 91.0.4472\n",
      "Get LATEST driver version for 91.0.4472\n",
      "Driver [C:\\Users\\ahop9\\.wdm\\drivers\\chromedriver\\win32\\91.0.4472.19\\chromedriver.exe] found in cache\n"
     ]
    },
    {
     "name": "stdout",
     "output_type": "stream",
     "text": [
      "https://marshemispheres.com/images/39d3266553462198bd2fbc4d18fbed17_cerberus_enhanced.tif_thumb.png\n"
     ]
    },
    {
     "name": "stderr",
     "output_type": "stream",
     "text": [
      "\n",
      "\n",
      "====== WebDriver manager ======\n",
      "Current google-chrome version is 91.0.4472\n",
      "Get LATEST driver version for 91.0.4472\n",
      "Driver [C:\\Users\\ahop9\\.wdm\\drivers\\chromedriver\\win32\\91.0.4472.19\\chromedriver.exe] found in cache\n"
     ]
    },
    {
     "name": "stdout",
     "output_type": "stream",
     "text": [
      "https://marshemispheres.com/images/08eac6e22c07fb1fe72223a79252de20_schiaparelli_enhanced.tif_thumb.png\n"
     ]
    },
    {
     "name": "stderr",
     "output_type": "stream",
     "text": [
      "\n",
      "\n",
      "====== WebDriver manager ======\n",
      "Current google-chrome version is 91.0.4472\n",
      "Get LATEST driver version for 91.0.4472\n",
      "Driver [C:\\Users\\ahop9\\.wdm\\drivers\\chromedriver\\win32\\91.0.4472.19\\chromedriver.exe] found in cache\n"
     ]
    },
    {
     "name": "stdout",
     "output_type": "stream",
     "text": [
      "https://marshemispheres.com/images/55a0a1e2796313fdeafb17c35925e8ac_syrtis_major_enhanced.tif_thumb.png\n"
     ]
    },
    {
     "name": "stderr",
     "output_type": "stream",
     "text": [
      "\n",
      "\n",
      "====== WebDriver manager ======\n",
      "Current google-chrome version is 91.0.4472\n",
      "Get LATEST driver version for 91.0.4472\n",
      "Driver [C:\\Users\\ahop9\\.wdm\\drivers\\chromedriver\\win32\\91.0.4472.19\\chromedriver.exe] found in cache\n"
     ]
    },
    {
     "name": "stdout",
     "output_type": "stream",
     "text": [
      "https://marshemispheres.com/images/4e59980c1c57f89c680c0e1ccabbeff1_valles_marineris_enhanced.tif_thumb.png\n"
     ]
    }
   ],
   "source": [
    "#Iterate through each page on website to pull full resolution image\n",
    "\n",
    "hemisphere_raw_urls = []\n",
    "base_url = 'https://marshemispheres.com/'\n",
    "\n",
    "for hemisphere in hemisphere_page_urls:\n",
    "    \n",
    "    if hemisphere != '#':\n",
    "        \n",
    "        executable_path = {'executable_path': ChromeDriverManager().install()}\n",
    "        browser = Browser('chrome', **executable_path, headless=False)\n",
    "        \n",
    "        url = 'https://marshemispheres.com/' + hemisphere\n",
    "        browser.visit(url)\n",
    "    \n",
    "        # HTML object\n",
    "        html = browser.html\n",
    "        # Parse HTML with Beautiful Soup\n",
    "        soup = bs(html, 'html.parser')\n",
    "        # Retrieve all elements that contain book information\n",
    "        hem_img = soup.find_all('img', class_='thumb')\n",
    "\n",
    "       \n",
    "        #Combining original URL with the source path for the featured image\n",
    "        hemisphere_raw_urls.append(base_url + hem_img[0]['src'])\n",
    "        print(base_url + hem_img[0]['src'])\n",
    "\n",
    "        browser.quit()\n",
    "        \n",
    "    if hemisphere == '#':\n",
    "        \n",
    "        browser.quit()\n"
   ]
  },
  {
   "cell_type": "code",
   "execution_count": 36,
   "metadata": {},
   "outputs": [],
   "source": [
    "# Concatenating titles with image urls\n",
    "\n",
    "hemisphere_image_urls = [\n",
    "    {\"title\": \"Valles Marineris Hemisphere\", \"img_url\": hemisphere_raw_urls[3]},\n",
    "    {\"title\": \"Cerberus Hemisphere\", \"img_url\": hemisphere_raw_urls[0]},\n",
    "    {\"title\": \"Schiaparelli Hemisphere\", \"img_url\": hemisphere_raw_urls[1]},\n",
    "    {\"title\": \"Syrtis Major Hemisphere\", \"img_url\": hemisphere_raw_urls[2]},\n",
    "]\n"
   ]
  },
  {
   "cell_type": "code",
   "execution_count": 29,
   "metadata": {},
   "outputs": [],
   "source": [
    "scraped_dictionary = {\"news_title\": news_title, \n",
    "                      \"news_p\": news_p, \n",
    "                      \"featured image\":featured_image_url, \n",
    "                      \"mars table\": mars_facts_df_html, \n",
    "                      \"hemisphere images\": hemisphere_image_urls}"
   ]
  },
  {
   "cell_type": "code",
   "execution_count": 37,
   "metadata": {},
   "outputs": [
    {
     "data": {
      "text/plain": [
       "'https://marshemispheres.com/valles.htmlimages/4e59980c1c57f89c680c0e1ccabbeff1_valles_marineris_enhanced.tif_thumb.png'"
      ]
     },
     "execution_count": 37,
     "metadata": {},
     "output_type": "execute_result"
    }
   ],
   "source": [
    "scraped_dictionary[\"hemisphere images\"][0]['img_url']"
   ]
  },
  {
   "cell_type": "code",
   "execution_count": 38,
   "metadata": {},
   "outputs": [
    {
     "data": {
      "text/plain": [
       "'https://spaceimages-mars.com/image/featured/mars3.jpg'"
      ]
     },
     "execution_count": 38,
     "metadata": {},
     "output_type": "execute_result"
    }
   ],
   "source": [
    "scraped_dictionary[\"featured image\"]"
   ]
  },
  {
   "cell_type": "code",
   "execution_count": null,
   "metadata": {},
   "outputs": [],
   "source": []
  }
 ],
 "metadata": {
  "kernelspec": {
   "display_name": "Python [conda env:PythonData] *",
   "language": "python",
   "name": "conda-env-PythonData-py"
  },
  "language_info": {
   "codemirror_mode": {
    "name": "ipython",
    "version": 3
   },
   "file_extension": ".py",
   "mimetype": "text/x-python",
   "name": "python",
   "nbconvert_exporter": "python",
   "pygments_lexer": "ipython3",
   "version": "3.8.8"
  }
 },
 "nbformat": 4,
 "nbformat_minor": 4
}
